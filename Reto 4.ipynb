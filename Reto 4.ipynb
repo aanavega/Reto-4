{
 "cells": [
  {
   "cell_type": "markdown",
   "metadata": {},
   "source": [
    "## Reto numero 4"
   ]
  },
  {
   "cell_type": "markdown",
   "metadata": {},
   "source": [
    "### Codigo numero 1\n",
    "- Dado un número entero, determinar si ese número corresponde al código ASCII de una vocal minúscula."
   ]
  },
  {
   "cell_type": "code",
   "execution_count": 3,
   "metadata": {},
   "outputs": [
    {
     "name": "stdout",
     "output_type": "stream",
     "text": [
      "El numero 7 no corresponde ninguna vocal\n"
     ]
    }
   ],
   "source": [
    "# Leer un numero entero\n",
    "numero : int\n",
    "numero = int(input(\"Ingrese un numero entero: \"))\n",
    "\n",
    "# Determinar si el numero corresponde al codigo ASCII de una vocal minuscula\n",
    "if numero == 97:\n",
    "    print('El numero ' + str(numero) + ' corresponde a la vocal \"a\"' )\n",
    "else:\n",
    "    if numero == 101:\n",
    "        print('El numero ' + str(numero) + ' corresponde a la vocal \"e\"')\n",
    "    else:\n",
    "        if numero == 105:\n",
    "            print('El numero ' + str(numero) + ' corresponde a la vocal \"i\"')\n",
    "        else:\n",
    "            if numero == 111:\n",
    "                print('El numero ' + str(numero) + ' corresponde a la vocal \"o\"')\n",
    "            else:\n",
    "                if numero ==117:\n",
    "                    print('El numero ' + str(numero) + ' corresponde a la vocal \"u\"')\n",
    "                else:\n",
    "                    print('El numero ' + str(numero) + ' no corresponde ninguna vocal')"
   ]
  },
  {
   "cell_type": "markdown",
   "metadata": {},
   "source": [
    "### Codigo numero 2\n",
    "- Dada una cadena de longitud 1, determine si el código ASCII de primera letra de la cadena es par o no.\n"
   ]
  },
  {
   "cell_type": "code",
   "execution_count": 4,
   "metadata": {},
   "outputs": [
    {
     "name": "stdout",
     "output_type": "stream",
     "text": [
      "El código ASCII de la primera letra no es par.\n"
     ]
    }
   ],
   "source": [
    "# Definir una funcion 'es ascii par' y realizar la conversion correspondiente\n",
    "def es_ascii_par(cadena):\n",
    "    return len(cadena) == 1 and ord(cadena) % 2 == 0\n",
    "\n",
    "# Leer una cadena de longitud 1\n",
    "cadena = input(\"Ingresa una cadena de longitud 1: \")\n",
    "resultado = es_ascii_par(cadena)\n",
    "\n",
    "# Determinar si el coodigo ASCII de la primera letra es par\n",
    "if resultado:\n",
    "    print(\"El código ASCII de la primera letra es par.\")\n",
    "else:\n",
    "    print(\"El código ASCII de la primera letra no es par.\")"
   ]
  },
  {
   "cell_type": "markdown",
   "metadata": {},
   "source": [
    "### Codigo numero 3\n",
    "- Dado un carácter, construya un programa en Python para determinar si el carácter es un dígito o no."
   ]
  },
  {
   "cell_type": "code",
   "execution_count": 2,
   "metadata": {},
   "outputs": [
    {
     "name": "stdout",
     "output_type": "stream",
     "text": [
      "El numero fno es un digito\n"
     ]
    }
   ],
   "source": [
    "# Definir una funcion 'es digito' y para evaluar si el valor que sera ingresado hace parte de la cadena\n",
    "def es_digito(cadena):\n",
    "    try:\n",
    "        int(cadena)\n",
    "        return True\n",
    "    except ValueError:\n",
    "        return False\n",
    "    \n",
    "# Leer un caracter\n",
    "caracter = input(\"Escriba un caracter\")\n",
    "\n",
    "# Determinar si el caracter ingresado es un digito\n",
    "if es_digito(caracter):\n",
    "    print(\"El numero \" + str(caracter) + \" es un digito\")\n",
    "else:\n",
    "    print(\"El numero \" + str(caracter) +  \"no es un digito\")"
   ]
  },
  {
   "cell_type": "markdown",
   "metadata": {},
   "source": [
    "### Codigo numero  4\n",
    "- Dado un número real x, construya un programa que permita determinar si el número es positivo, negativo o cero. Para cada caso de debe imprimir el texto que se especifica a continuación:\n",
    "\n",
    "    - Positivo: \"El número x es positivo\"\n",
    "    -  Negativo: \"El número x es negativo\"\n",
    "    - Cero (0): \"El número x es el neutro para la suma\"\n"
   ]
  },
  {
   "cell_type": "code",
   "execution_count": 8,
   "metadata": {},
   "outputs": [
    {
     "name": "stdout",
     "output_type": "stream",
     "text": [
      "El numero 86.0 es positivo\n"
     ]
    }
   ],
   "source": [
    "# Leer un numero real\n",
    "numero : float\n",
    "numero = float(input(\"Ingrese un numero: \")) \n",
    "\n",
    "# Determinar si el numero es mayor, igual o menor que cero\n",
    "\n",
    "if numero > 0:\n",
    "  print(\"El numero \"+str(numero)+\" es positivo\")\n",
    "elif numero == 0:\n",
    "  print(\"El número \"+str(numero)+\" es el neutro para la suma\")\n",
    "else:\n",
    "  print(\"El numero \"+str(numero)+\" es negativo\")"
   ]
  },
  {
   "cell_type": "markdown",
   "metadata": {},
   "source": [
    "### Codigo numero 5\n",
    "- Dado el centro y el radio de un círculo, determinar si un punto de R2 pertenece o no al interior del círculo."
   ]
  },
  {
   "cell_type": "code",
   "execution_count": 9,
   "metadata": {},
   "outputs": [
    {
     "name": "stdout",
     "output_type": "stream",
     "text": [
      "El punto R2 no pertenece al circulo\n"
     ]
    }
   ],
   "source": [
    "# Leer 2 cooordenadas de punto y el radio de un circulo\n",
    "x = int(input(\"Ingrese un numero en x para el punto a conocer: \"))\n",
    "y = int(input(\"Ingrese un numero en y para el punto a conocer: \"))\n",
    "a = int(input(\"Ingrese un numero en x para el centro del circulo: \"))\n",
    "b = int(input(\"Ingrese un numero en y para el centro del circulo: \"))\n",
    "r = int(input(\"Ingrese un numero para el radio del circulo: \"))\n",
    "\n",
    "# Se definen dos variables, el centro del circulo y el punto R2\n",
    "C = (a, b)\n",
    "R2 = (x, y) \n",
    "\n",
    "# Determinamos si el punto R2 al circulo\n",
    "if r**2 == (x - a)**2 + (y - b)**2:\n",
    "    print(\"El punto R2 pertence al circulo\")\n",
    "else:\n",
    "    print(\"El punto R2 no pertenece al circulo\")"
   ]
  },
  {
   "cell_type": "markdown",
   "metadata": {},
   "source": [
    "### Codigo numero 6\n",
    "- Dadas tres longitudes positivas, determinar si con esas longitudes se puede construir un triángulo."
   ]
  },
  {
   "cell_type": "code",
   "execution_count": 11,
   "metadata": {},
   "outputs": [
    {
     "name": "stdout",
     "output_type": "stream",
     "text": [
      "No es posible construir el triangulo\n"
     ]
    }
   ],
   "source": [
    "#  Leer tres longitudes positivas\n",
    "longitud1 = int(input(\"Ingrese un valor para cateto 1: \"))\n",
    "longitud2 = int(input(\"Ingrese un valor para cateto 2: \"))\n",
    "longitud3 = int(input(\"Ingrese un valor para la hipotenusa: \"))\n",
    "\n",
    "# Derminar si es posible construir el triangulo, a partir de las sumas de sus lados\n",
    "if longitud1 + longitud2 > longitud3 and longitud2 + longitud3 > longitud1 and longitud3 + longitud1 > longitud2:\n",
    "    print(\"Es posible construir el triangulo\")\n",
    "else:\n",
    "    print(\"No es posible construir el triangulo\")"
   ]
  }
 ],
 "metadata": {
  "kernelspec": {
   "display_name": "Python 3",
   "language": "python",
   "name": "python3"
  },
  "language_info": {
   "codemirror_mode": {
    "name": "ipython",
    "version": 3
   },
   "file_extension": ".py",
   "mimetype": "text/x-python",
   "name": "python",
   "nbconvert_exporter": "python",
   "pygments_lexer": "ipython3",
   "version": "3.12.2"
  }
 },
 "nbformat": 4,
 "nbformat_minor": 2
}
